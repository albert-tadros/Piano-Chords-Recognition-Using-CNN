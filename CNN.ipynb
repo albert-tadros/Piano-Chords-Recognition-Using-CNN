{
 "cells": [
  {
   "cell_type": "markdown",
   "id": "fc050f9f",
   "metadata": {},
   "source": [
    "`Albert Tadros\n",
    "CSc_447\n",
    "Final Project_ Building and Training CNN\n",
    "'"
   ]
  },
  {
   "cell_type": "markdown",
   "id": "b2504c8e",
   "metadata": {},
   "source": [
    "## Function to visualize the piano chords. This visualization will be used when making a prediction using the trained model "
   ]
  },
  {
   "cell_type": "code",
   "execution_count": 1,
   "id": "238fbacf",
   "metadata": {},
   "outputs": [],
   "source": [
    "import numpy as np\n",
    "import pandas as pd\n",
    "import matplotlib.pyplot as plt\n",
    "from scipy.io.wavfile import read\n",
    "from scipy import signal\n",
    "from IPython.display import Audio, Image\n",
    "import librosa\n",
    "import librosa.display\n",
    "import pylab\n",
    "from numpy.fft import fft, ifft\n",
    "%matplotlib inline\n",
    "import math\n",
    "from PIL import Image, ImageDraw\n",
    "\n",
    "# Load the triad csv file, to get chord names and notes \n",
    "triads = pd.read_csv(\"triads.csv\")\n",
    "triads.head(20)\n",
    "\n",
    "df = pd.DataFrame(triads)\n",
    "df.shape\n",
    "\n",
    "def make_keyboard(chord):\n",
    "    key_width = 15\n",
    "    key_height = 100\n",
    "    octaves = 7\n",
    "    \n",
    "    white_keys = [\"C\",\"D\",\"E\",\"F\",\"G\",\"A\",\"B\"]\n",
    "    black_keys = ['Cs',\"Eb\",\"Fs\",\"Gs\",\"Bb\"]\n",
    "    \n",
    "    notes2 = []\n",
    "    notes2.append([str(chord['Note1'].values[0]).split(\"_\")[0], str(chord['Note1'].values[0]).split(\"_\")[1]])\n",
    "    notes2.append([str(chord['Note2'].values[0]).split(\"_\")[0], str(chord['Note2'].values[0]).split(\"_\")[1]])\n",
    "    notes2.append([str(chord['Note3'].values[0]).split(\"_\")[0], str(chord['Note3'].values[0]).split(\"_\")[1]])\n",
    "    \n",
    "    img_width = (key_width) * 7 * (octaves + 1)\n",
    "    img_height = key_height + 5\n",
    "\n",
    "    img = Image.new(\"RGB\", (img_width, img_height), color=(230,230,230))\n",
    "    img1 = ImageDraw.Draw(img)\n",
    "\n",
    "    # Draw the white keys\n",
    "    for i in range(2, octaves + 2):\n",
    "        offset = (i * (key_width + 2) * 7) - ((key_width + 2) * 7 * 2)\n",
    "        \n",
    "        # Draw the white keys\n",
    "        j = 1\n",
    "        for note in white_keys:\n",
    "            fill_color = \"FFFFFF\"\n",
    "            if (note == notes2[0][0] and str(i) == notes2[0][1]) or (note == notes2[1][0] and str(i) == notes2[1][1]) or (note == notes2[2][0] and str(i) == notes2[2][1]):\n",
    "                fill_color = \"FF0000\"\n",
    "            x = j * (key_width + 2) + offset - key_width\n",
    "            w = j * (key_width + 2) + key_width + offset - key_width\n",
    "            img1.rectangle([(x, 0), (w, key_height)], fill = \"#\" + fill_color, outline =\"#555555\")\n",
    "            j += 1\n",
    "\n",
    "    # Draw the black keys\n",
    "    for i in range(2, octaves + 2):\n",
    "        offset = (i * (key_width + 2) * 7) - ((key_width + 2) * 7 * 2)\n",
    "        j = 1\n",
    "        for note in black_keys:\n",
    "            fill_color = \"444444\"\n",
    "            if (note == notes2[0][0] and str(i) == notes2[0][1]) or (note == notes2[1][0] and str(i) == notes2[1][1]) or (note == notes2[2][0] and str(i) == notes2[2][1]):\n",
    "                fill_color = \"FF0000\"\n",
    "\n",
    "            if (j == 3):\n",
    "                j += 1   \n",
    "            x = j * (key_width + 2) + offset - key_width + (key_width / 2) + 4\n",
    "            w = j * (key_width + 2) + key_width + offset - key_width  + (key_width / 2)\n",
    "            img1.rectangle([(x , 0), (w, key_height * .65)], fill = \"#\" + fill_color, outline = \"#555555\")\n",
    "                \n",
    "            j += 1\n",
    "\n",
    "    display(img)"
   ]
  },
  {
   "cell_type": "code",
   "execution_count": 2,
   "id": "8585e7e4",
   "metadata": {},
   "outputs": [],
   "source": [
    "#df[df.Chord==\"B_maj_2_1\"]"
   ]
  },
  {
   "cell_type": "markdown",
   "id": "c4754315",
   "metadata": {},
   "source": [
    "# Building and Training the CNN Model"
   ]
  },
  {
   "cell_type": "code",
   "execution_count": 3,
   "id": "497c3c98",
   "metadata": {},
   "outputs": [],
   "source": [
    "import json\n",
    "import numpy as np\n",
    "from sklearn.model_selection import train_test_split\n",
    "import tensorflow.keras as keras\n",
    "import matplotlib.pyplot as plt"
   ]
  },
  {
   "cell_type": "markdown",
   "id": "46f47fd8",
   "metadata": {},
   "source": [
    "### Loading the processed audio data from the JSON file"
   ]
  },
  {
   "cell_type": "code",
   "execution_count": 4,
   "id": "9bd24780",
   "metadata": {},
   "outputs": [],
   "source": [
    "# defining the path to the processed audio data\n",
    "DATA_PATH = \"../Final Project/audio_data_prepared.json\"\n",
    "\n",
    "def read_data(data_path):\n",
    "\n",
    "    with open(data_path, \"r\") as fp:\n",
    "        data = json.load(fp)\n",
    "\n",
    "    X = np.array(data[\"mel\"])        # array with mel_spectrogram values of audio segments processed\n",
    "    y = np.array(data[\"labels\"])     # array labels of each mel_spectrogrammed audio segement\n",
    "    maps = np.array(data[\"chordnames\"]) # array of chord names\n",
    "    return X, y, maps"
   ]
  },
  {
   "cell_type": "code",
   "execution_count": 5,
   "id": "eb7fa683",
   "metadata": {},
   "outputs": [],
   "source": [
    "def plot_evaluation(history):\n",
    "\n",
    "    fig, axs = plt.subplots(2, figsize=(10,10))\n",
    "    plt.subplots_adjust(left=0.1,\n",
    "                    bottom=0.1, \n",
    "                    right=0.9, \n",
    "                    top=0.9, \n",
    "                    wspace=0.4, \n",
    "                    hspace=0.4)\n",
    "\n",
    "    # plot accuracy \n",
    "    axs[0].plot(history.history[\"accuracy\"], label=\"train accuracy\")\n",
    "    axs[0].plot(history.history[\"val_accuracy\"], label=\"test accuracy\")\n",
    "    axs[0].set_xlabel(\"Epoch\")\n",
    "    axs[0].set_ylabel(\"Accuracy\")\n",
    "    axs[0].legend(loc=\"lower right\")\n",
    "    axs[0].set_title(\"Accuracy evaluation\")\n",
    "\n",
    "    # plot error\n",
    "    axs[1].plot(history.history[\"loss\"], label=\"train error\")\n",
    "    axs[1].plot(history.history[\"val_loss\"], label=\"test error\")\n",
    "    axs[1].set_ylabel(\"Error\")\n",
    "    axs[1].set_xlabel(\"Epoch\")\n",
    "    axs[1].legend(loc=\"upper right\")\n",
    "    axs[1].set_title(\"Error evaluation\")\n",
    "\n",
    "    plt.show()"
   ]
  },
  {
   "cell_type": "code",
   "execution_count": 6,
   "id": "c69a4831",
   "metadata": {},
   "outputs": [],
   "source": [
    "# Load data and split it into train, validation and test sets\n",
    "\n",
    "def data_Prep(test_size, validation_size):\n",
    "    \n",
    "    # test_size is a value in the range [0, 1] which is the percentage of the data set to allocate to the test split\n",
    "    # validation_size is a value in the range [0, 1] which is the percentage of the train set that should be allocated to validation split\n",
    "\n",
    "    # load data \n",
    "    X, y, maps = read_data(DATA_PATH) # calling the load data function to get the processed audio data\n",
    "\n",
    "    # split data into train, validation and test\n",
    "        # X_train : Input training set\n",
    "        # X_validation: Input validation set\n",
    "        # X_test: Input test set\n",
    "        # y_train: Target training set\n",
    "        # y_validation: Target validation set\n",
    "        # y_test (ndarray): Target test set\n",
    "    \n",
    "    \n",
    "    X_train, X_test, y_train, y_test = train_test_split(X, y, test_size=test_size)\n",
    "    X_train, X_validation, y_train, y_validation = train_test_split(X_train, y_train, test_size=validation_size)\n",
    "\n",
    "    # add an axis to input sets\n",
    "    X_train = X_train[..., np.newaxis]\n",
    "    X_validation = X_validation[..., np.newaxis]\n",
    "    X_test = X_test[..., np.newaxis]\n",
    "\n",
    "    return X_train, X_validation, X_test, y_train, y_validation, y_test, maps"
   ]
  },
  {
   "cell_type": "markdown",
   "id": "fa865f42",
   "metadata": {},
   "source": [
    "### Building the CNN model"
   ]
  },
  {
   "cell_type": "code",
   "execution_count": 7,
   "id": "18cb9a98",
   "metadata": {},
   "outputs": [],
   "source": [
    "def create_model(input_shape):\n",
    "\n",
    "    #create model\n",
    "    model = keras.Sequential()\n",
    "\n",
    "#add model layers\n",
    "    \n",
    "    # first conv layer\n",
    "    model.add(keras.layers.Conv2D(32, (3, 3), activation='relu', input_shape=input_shape))\n",
    "    model.add(keras.layers.MaxPooling2D((3, 3), strides=(2, 2), padding='same'))\n",
    "    model.add(keras.layers.BatchNormalization())\n",
    "\n",
    "    # second conv layer\n",
    "    model.add(keras.layers.Conv2D(32, (3, 3), activation='relu'))\n",
    "    model.add(keras.layers.MaxPooling2D((3, 3), strides=(2, 2), padding='same'))\n",
    "    model.add(keras.layers.BatchNormalization())\n",
    "\n",
    "    # third conv layer\n",
    "    model.add(keras.layers.Conv2D(32, (2, 2), activation='relu'))\n",
    "    model.add(keras.layers.MaxPooling2D((2, 2), strides=(2, 2), padding='same'))\n",
    "    model.add(keras.layers.BatchNormalization())\n",
    "\n",
    "    # flatten output and feeding it into dense layer\n",
    "    model.add(keras.layers.Flatten())\n",
    "    model.add(keras.layers.Dense(64, activation='relu'))\n",
    "    model.add(keras.layers.Dropout(0.3))\n",
    "\n",
    "    # output layer\n",
    "    model.add(keras.layers.Dense(360, activation='softmax'))\n",
    "\n",
    "    return model"
   ]
  },
  {
   "cell_type": "markdown",
   "id": "89d380d6",
   "metadata": {},
   "source": [
    "### Creating the prediction function"
   ]
  },
  {
   "cell_type": "code",
   "execution_count": 8,
   "id": "c3880a34",
   "metadata": {},
   "outputs": [],
   "source": [
    "def predict(model, X, y, maps):\n",
    "\n",
    "    #  model.predict() requires a 4d array. So, One more dimension to input data needs to be added.\n",
    "    X = X[np.newaxis, ...]\n",
    "    \n",
    "    # run the prediction function\n",
    "    prediction = model.predict(X)\n",
    "\n",
    "    # get index with max value\n",
    "    predicted_index = np.argmax(prediction, axis=1)\n",
    "\n",
    "    print(\"Target: {}, Predicted label: {}\".format(y, predicted_index))\n",
    "  \n",
    "    print(\"Target is {}: , Predicted label is {}\".format(maps[y], maps[predicted_index]))\n",
    "    \n",
    "    return maps[y], maps[predicted_index] # returining Target chord and the Predicted Chord "
   ]
  },
  {
   "cell_type": "markdown",
   "id": "e2d91b00",
   "metadata": {},
   "source": [
    "### Compiling the model"
   ]
  },
  {
   "cell_type": "code",
   "execution_count": 9,
   "id": "ebf7f329",
   "metadata": {},
   "outputs": [
    {
     "name": "stderr",
     "output_type": "stream",
     "text": [
      "2021-12-20 22:24:10.117583: I tensorflow/core/platform/cpu_feature_guard.cc:145] This TensorFlow binary is optimized with Intel(R) MKL-DNN to use the following CPU instructions in performance critical operations:  SSE4.1 SSE4.2 AVX AVX2 FMA\n",
      "To enable them in non-MKL-DNN operations, rebuild TensorFlow with the appropriate compiler flags.\n",
      "2021-12-20 22:24:10.117990: I tensorflow/core/common_runtime/process_util.cc:115] Creating new thread pool with default inter op setting: 12. Tune using inter_op_parallelism_threads for best performance.\n"
     ]
    },
    {
     "name": "stdout",
     "output_type": "stream",
     "text": [
      "Model: \"sequential\"\n",
      "_________________________________________________________________\n",
      "Layer (type)                 Output Shape              Param #   \n",
      "=================================================================\n",
      "conv2d (Conv2D)              (None, 126, 11, 32)       320       \n",
      "_________________________________________________________________\n",
      "max_pooling2d (MaxPooling2D) (None, 63, 6, 32)         0         \n",
      "_________________________________________________________________\n",
      "batch_normalization (BatchNo (None, 63, 6, 32)         128       \n",
      "_________________________________________________________________\n",
      "conv2d_1 (Conv2D)            (None, 61, 4, 32)         9248      \n",
      "_________________________________________________________________\n",
      "max_pooling2d_1 (MaxPooling2 (None, 31, 2, 32)         0         \n",
      "_________________________________________________________________\n",
      "batch_normalization_1 (Batch (None, 31, 2, 32)         128       \n",
      "_________________________________________________________________\n",
      "conv2d_2 (Conv2D)            (None, 30, 1, 32)         4128      \n",
      "_________________________________________________________________\n",
      "max_pooling2d_2 (MaxPooling2 (None, 15, 1, 32)         0         \n",
      "_________________________________________________________________\n",
      "batch_normalization_2 (Batch (None, 15, 1, 32)         128       \n",
      "_________________________________________________________________\n",
      "flatten (Flatten)            (None, 480)               0         \n",
      "_________________________________________________________________\n",
      "dense (Dense)                (None, 64)                30784     \n",
      "_________________________________________________________________\n",
      "dropout (Dropout)            (None, 64)                0         \n",
      "_________________________________________________________________\n",
      "dense_1 (Dense)              (None, 360)               23400     \n",
      "=================================================================\n",
      "Total params: 68,264\n",
      "Trainable params: 68,072\n",
      "Non-trainable params: 192\n",
      "_________________________________________________________________\n"
     ]
    }
   ],
   "source": [
    "if __name__ == \"__main__\":\n",
    "\n",
    "    # obtain train, validation, test sets\n",
    "    X_train, X_validation, X_test, y_train, y_validation, y_test, maps = data_Prep(0.25, 0.2)\n",
    "\n",
    "    # construct the CNN\n",
    "    input_shape = (X_train.shape[1], X_train.shape[2], 1)\n",
    "    model = create_model(input_shape)\n",
    "\n",
    "    #compile model using accuracy to measure model performance\n",
    "    optimiser = keras.optimizers.Adam(learning_rate=0.001)\n",
    "    model.compile(optimizer=optimiser,loss='sparse_categorical_crossentropy', metrics=['accuracy'])\n",
    "\n",
    "    model.summary()"
   ]
  },
  {
   "cell_type": "markdown",
   "id": "71f00826",
   "metadata": {},
   "source": [
    "# Training the model, performing testing and prediction"
   ]
  },
  {
   "cell_type": "code",
   "execution_count": 10,
   "id": "ff5818fe",
   "metadata": {},
   "outputs": [
    {
     "name": "stdout",
     "output_type": "stream",
     "text": [
      "Train on 2160 samples, validate on 540 samples\n",
      "Epoch 1/30\n",
      "2160/2160 [==============================] - 5s 2ms/sample - loss: 5.8697 - accuracy: 0.0083 - val_loss: 5.8927 - val_accuracy: 0.0074\n",
      "Epoch 2/30\n",
      "2160/2160 [==============================] - 3s 1ms/sample - loss: 5.2053 - accuracy: 0.0463 - val_loss: 5.9603 - val_accuracy: 0.0093\n",
      "Epoch 3/30\n",
      "2160/2160 [==============================] - 2s 1ms/sample - loss: 4.1601 - accuracy: 0.1491 - val_loss: 5.9227 - val_accuracy: 0.0074\n",
      "Epoch 4/30\n",
      "2160/2160 [==============================] - 3s 1ms/sample - loss: 3.0862 - accuracy: 0.3407 - val_loss: 5.8574 - val_accuracy: 0.0185\n",
      "Epoch 5/30\n",
      "2160/2160 [==============================] - 3s 1ms/sample - loss: 2.3660 - accuracy: 0.4579 - val_loss: 5.1850 - val_accuracy: 0.0722\n",
      "Epoch 6/30\n",
      "2160/2160 [==============================] - 3s 1ms/sample - loss: 1.7997 - accuracy: 0.5722 - val_loss: 4.1079 - val_accuracy: 0.2407\n",
      "Epoch 7/30\n",
      "2160/2160 [==============================] - 3s 1ms/sample - loss: 1.4094 - accuracy: 0.6574 - val_loss: 2.9509 - val_accuracy: 0.4333\n",
      "Epoch 8/30\n",
      "2160/2160 [==============================] - 3s 1ms/sample - loss: 1.0858 - accuracy: 0.7278 - val_loss: 1.9516 - val_accuracy: 0.6056\n",
      "Epoch 9/30\n",
      "2160/2160 [==============================] - 3s 1ms/sample - loss: 0.9000 - accuracy: 0.7704 - val_loss: 1.3432 - val_accuracy: 0.7333\n",
      "Epoch 10/30\n",
      "2160/2160 [==============================] - 3s 1ms/sample - loss: 0.7475 - accuracy: 0.8111 - val_loss: 1.1250 - val_accuracy: 0.7296\n",
      "Epoch 11/30\n",
      "2160/2160 [==============================] - 3s 1ms/sample - loss: 0.6060 - accuracy: 0.8468 - val_loss: 1.0040 - val_accuracy: 0.7704\n",
      "Epoch 12/30\n",
      "2160/2160 [==============================] - 3s 1ms/sample - loss: 0.5782 - accuracy: 0.8449 - val_loss: 0.8083 - val_accuracy: 0.8056\n",
      "Epoch 13/30\n",
      "2160/2160 [==============================] - 3s 1ms/sample - loss: 0.4591 - accuracy: 0.8819 - val_loss: 0.7695 - val_accuracy: 0.8019\n",
      "Epoch 14/30\n",
      "2160/2160 [==============================] - 3s 1ms/sample - loss: 0.3875 - accuracy: 0.8926 - val_loss: 0.7390 - val_accuracy: 0.8093\n",
      "Epoch 15/30\n",
      "2160/2160 [==============================] - 3s 1ms/sample - loss: 0.3417 - accuracy: 0.9093 - val_loss: 0.6715 - val_accuracy: 0.8130\n",
      "Epoch 16/30\n",
      "2160/2160 [==============================] - 3s 1ms/sample - loss: 0.3189 - accuracy: 0.9120 - val_loss: 0.7071 - val_accuracy: 0.8204\n",
      "Epoch 17/30\n",
      "2160/2160 [==============================] - 3s 1ms/sample - loss: 0.2683 - accuracy: 0.9282 - val_loss: 0.7091 - val_accuracy: 0.8130\n",
      "Epoch 18/30\n",
      "2160/2160 [==============================] - 3s 1ms/sample - loss: 0.2729 - accuracy: 0.9194 - val_loss: 0.6976 - val_accuracy: 0.8167\n",
      "Epoch 19/30\n",
      "2160/2160 [==============================] - 3s 1ms/sample - loss: 0.2403 - accuracy: 0.9329 - val_loss: 0.6062 - val_accuracy: 0.8444\n",
      "Epoch 20/30\n",
      "2160/2160 [==============================] - 3s 1ms/sample - loss: 0.1912 - accuracy: 0.9486 - val_loss: 0.5949 - val_accuracy: 0.8370\n",
      "Epoch 21/30\n",
      "2160/2160 [==============================] - 3s 1ms/sample - loss: 0.1729 - accuracy: 0.9574 - val_loss: 0.5938 - val_accuracy: 0.8296\n",
      "Epoch 22/30\n",
      "2160/2160 [==============================] - 3s 1ms/sample - loss: 0.1663 - accuracy: 0.9546 - val_loss: 0.6751 - val_accuracy: 0.8426\n",
      "Epoch 23/30\n",
      "2160/2160 [==============================] - 3s 1ms/sample - loss: 0.1805 - accuracy: 0.9463 - val_loss: 0.6212 - val_accuracy: 0.8407\n",
      "Epoch 24/30\n",
      "2160/2160 [==============================] - 3s 1ms/sample - loss: 0.1672 - accuracy: 0.9565 - val_loss: 0.7110 - val_accuracy: 0.8352\n",
      "Epoch 25/30\n",
      "2160/2160 [==============================] - 3s 1ms/sample - loss: 0.1610 - accuracy: 0.9583 - val_loss: 0.6698 - val_accuracy: 0.8352\n",
      "Epoch 26/30\n",
      "2160/2160 [==============================] - 3s 1ms/sample - loss: 0.1361 - accuracy: 0.9620 - val_loss: 0.5519 - val_accuracy: 0.8481\n",
      "Epoch 27/30\n",
      "2160/2160 [==============================] - 3s 1ms/sample - loss: 0.1424 - accuracy: 0.9593 - val_loss: 0.6520 - val_accuracy: 0.8333\n",
      "Epoch 28/30\n",
      "2160/2160 [==============================] - 3s 1ms/sample - loss: 0.1299 - accuracy: 0.9662 - val_loss: 0.6318 - val_accuracy: 0.8389\n",
      "Epoch 29/30\n",
      "2160/2160 [==============================] - 3s 1ms/sample - loss: 0.1199 - accuracy: 0.9671 - val_loss: 0.6998 - val_accuracy: 0.8370\n",
      "Epoch 30/30\n",
      "2160/2160 [==============================] - 3s 1ms/sample - loss: 0.1177 - accuracy: 0.9662 - val_loss: 0.5763 - val_accuracy: 0.8444\n"
     ]
    },
    {
     "data": {
      "image/png": "[encoded data removed]",
      "text/plain": [
       "<Figure size 720x720 with 2 Axes>"
      ]
     },
     "metadata": {
      "needs_background": "light"
     },
     "output_type": "display_data"
    },
    {
     "name": "stdout",
     "output_type": "stream",
     "text": [
      "900/1 - 0s - loss: 0.4136 - accuracy: 0.8333\n",
      "\n",
      "Test accuracy: 0.8333333\n",
      "Target: 207, Predicted label: [207]\n",
      "Target is Bb_dim_5_0: , Predicted label is ['Bb_dim_5_0']\n"
     ]
    }
   ],
   "source": [
    "# train model\n",
    "history = model.fit(X_train, y_train, validation_data=(X_validation, y_validation), batch_size=32, epochs=30)\n",
    "\n",
    "# plotting accuracy and error for training and validation\n",
    "plot_evaluation(history)\n",
    "\n",
    "# using test set, evaluate model \n",
    "test_loss, test_acc = model.evaluate(X_test, y_test, verbose=2)\n",
    "print('\\nTest accuracy:', test_acc)\n",
    "\n",
    "# choosing a sample to predict from the test set\n",
    "X_to_predict = X_test[50]\n",
    "y_to_predict = y_test[50]\n",
    "\n",
    "# run the sample prediction\n",
    "filename1, filename2 = predict(model, X_to_predict, y_to_predict, maps)\n",
    "chord1 = triads[triads['Chord'] == filename1]\n",
    "chord2 = triads[triads['Chord'] == filename2[0]]"
   ]
  },
  {
   "cell_type": "markdown",
   "id": "5db9266b",
   "metadata": {},
   "source": [
    "### Visualizing Target Sample Vs Predicted Sample"
   ]
  },
  {
   "cell_type": "code",
   "execution_count": 12,
   "id": "40123ff1",
   "metadata": {},
   "outputs": [
    {
     "data": {
      "image/png": "[encoded data removed]",
      "text/plain": [
       "<PIL.Image.Image image mode=RGB size=840x105 at 0x7FF5E91D46D0>"
      ]
     },
     "metadata": {},
     "output_type": "display_data"
    },
    {
     "data": {
      "image/png": "[encoded data removed]",
      "text/plain": [
       "<PIL.Image.Image image mode=RGB size=840x105 at 0x7FF5E91D4690>"
      ]
     },
     "metadata": {},
     "output_type": "display_data"
    }
   ],
   "source": [
    "make_keyboard(chord1) # Target. First piano image\n",
    "make_keyboard(chord2) # Predicted. second piano image"
   ]
  },
  {
   "cell_type": "code",
   "execution_count": null,
   "id": "0f947d1b",
   "metadata": {},
   "outputs": [],
   "source": []
  }
 ],
 "metadata": {
  "kernelspec": {
   "display_name": "Python 3 (ipykernel)",
   "language": "python",
   "name": "python3"
  },
  "language_info": {
   "codemirror_mode": {
    "name": "ipython",
    "version": 3
   },
   "file_extension": ".py",
   "mimetype": "text/x-python",
   "name": "python",
   "nbconvert_exporter": "python",
   "pygments_lexer": "ipython3",
   "version": "3.7.11"
  }
 },
 "nbformat": 4,
 "nbformat_minor": 5
}
